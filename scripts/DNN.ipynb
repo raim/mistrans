{
 "cells": [
  {
   "cell_type": "code",
   "execution_count": 5,
   "id": "96708a47-caae-4df2-bdd7-8a9e24ba97fd",
   "metadata": {},
   "outputs": [],
   "source": [
    "import tensorflow as tf\n",
    "import pandas as pd\n",
    "import numpy as np\n",
    "from sklearn.model_selection import train_test_split\n",
    "from sklearn.neighbors import KernelDensity\n",
    "from sklearn.metrics import r2_score"
   ]
  },
  {
   "cell_type": "code",
   "execution_count": 7,
   "id": "81d2e810-b62e-470f-8491-25eaa7e44d6d",
   "metadata": {},
   "outputs": [],
   "source": [
    "path = \"/home/raim/Downloads/mTRAQ_WC_THP1_mac_library_04202023.tsv\"\n",
    "df = pd.read_csv(path, delimiter='\\t')\n",
    "original_df = pd.DataFrame(df)\n",
    "distinct_df = original_df.drop_duplicates(subset='transition_group_id')"
   ]
  },
  {
   "cell_type": "code",
   "execution_count": 8,
   "id": "0d352668-8db4-4373-b4bd-72f1499bf20a",
   "metadata": {},
   "outputs": [],
   "source": [
    "peptide_sequence = \"ACDEFGHIKLMNPQRSTVWYacdefghiklmnpqrstvwy\"   # define peptide sequence as a string \n",
    "max_sequence_length = 30    # set the maximum sequence length\n",
    "num_amino_acids = 20      # number of possible amino acids\n",
    "\n",
    "# create a dictionary to map amino acids to their indices\n",
    "amino_acid_to_index = {aa: i for i, aa in enumerate(peptide_sequence)}\n",
    "\n",
    "def one_hot_encode_sequence(sequence):\n",
    "    one_hot_sequence = np.zeros((max_sequence_length, num_amino_acids), dtype=np.float32)\n",
    "    for i, aa in enumerate(sequence[:max_sequence_length]):\n",
    "        aa_index = amino_acid_to_index.get(aa.upper(), None)\n",
    "        if aa_index is not None:\n",
    "            one_hot_sequence[i, aa_index] = 1.0\n",
    "    return one_hot_sequence\n",
    "\n",
    "X_peptide = [one_hot_encode_sequence(seq) for seq in distinct_df['PeptideSequence']]\n",
    "\n",
    "# One-hot encode charge states (assumes a maximum charge state of 5)\n",
    "max_charge_state = 5\n",
    "X_charge = np.zeros((len(distinct_df), max_charge_state), dtype=np.float32)\n",
    "\n",
    "for i, charge in enumerate(distinct_df['PrecursorCharge']):\n",
    "    if 1 <= charge <= max_charge_state:\n",
    "        X_charge[i, charge - 1] = 1.0\n",
    "\n",
    "# concatenate peptide sequences and charge states to create the final input (X)\n",
    "X = [np.concatenate((X_peptide[i], np.tile(X_charge[i], (max_sequence_length, 1))), axis=1) for i in range(len(X_peptide))]\n",
    "Y = distinct_df['IonMobility'].values\n",
    "weights = distinct_df['Ms1ProfileCorr'].values\n",
    "\n",
    "# Split the data into training and testing sets\n",
    "X_train, X_test, Y_train, Y_test, weights_train, weights_test = train_test_split(X, Y, weights, test_size=0.1, random_state=42)"
   ]
  },
  {
   "cell_type": "code",
   "execution_count": 9,
   "id": "b30a1344-5e3e-416f-a9c7-e18481f46b43",
   "metadata": {},
   "outputs": [],
   "source": [
    "def weighted_mean_absolute_error(y_true, y_pred, weights):\n",
    "    \"\"\"\n",
    "    Weighted Mean Absolute Error custom loss function.\n",
    "\n",
    "    :param y_true: True labels\n",
    "    :param y_pred: Predicted labels\n",
    "    :param weights: Weights for each sample (based on Ms1ProfileCorr)\n",
    "    :return: Weighted MAE\n",
    "    \"\"\"\n",
    "    # Calculate the absolute error\n",
    "    error = tf.abs(y_pred - y_true)\n",
    "    transformed_weights = weights+0.1\n",
    "\n",
    "    # Apply weights\n",
    "    weighted_error = error * transformed_weights\n",
    "    \n",
    "    # Return the mean of the weighted error\n",
    "    return tf.reduce_mean(weighted_error)"
   ]
  },
  {
   "cell_type": "code",
   "execution_count": 10,
   "id": "e6a5abff-314b-4fd1-928b-368783ebcd6d",
   "metadata": {},
   "outputs": [
    {
     "name": "stderr",
     "output_type": "stream",
     "text": [
      "/home/raim/.local/lib/python3.10/site-packages/keras/src/layers/reshaping/flatten.py:37: UserWarning: Do not pass an `input_shape`/`input_dim` argument to a layer. When using Sequential models, prefer using an `Input(shape)` object as the first layer in the model instead.\n",
      "  super().__init__(**kwargs)\n"
     ]
    },
    {
     "name": "stdout",
     "output_type": "stream",
     "text": [
      "Epoch 1/10\n",
      "\u001b[1m2863/2863\u001b[0m \u001b[32m━━━━━━━━━━━━━━━━━━━━\u001b[0m\u001b[37m\u001b[0m \u001b[1m31s\u001b[0m 10ms/step - loss: 0.0187 - val_loss: 0.0105\n",
      "Epoch 2/10\n",
      "\u001b[1m2863/2863\u001b[0m \u001b[32m━━━━━━━━━━━━━━━━━━━━\u001b[0m\u001b[37m\u001b[0m \u001b[1m31s\u001b[0m 11ms/step - loss: 0.0103 - val_loss: 0.0096\n",
      "Epoch 3/10\n",
      "\u001b[1m2863/2863\u001b[0m \u001b[32m━━━━━━━━━━━━━━━━━━━━\u001b[0m\u001b[37m\u001b[0m \u001b[1m31s\u001b[0m 11ms/step - loss: 0.0097 - val_loss: 0.0095\n",
      "Epoch 4/10\n",
      "\u001b[1m2863/2863\u001b[0m \u001b[32m━━━━━━━━━━━━━━━━━━━━\u001b[0m\u001b[37m\u001b[0m \u001b[1m29s\u001b[0m 10ms/step - loss: 0.0095 - val_loss: 0.0100\n",
      "Epoch 5/10\n",
      "\u001b[1m2863/2863\u001b[0m \u001b[32m━━━━━━━━━━━━━━━━━━━━\u001b[0m\u001b[37m\u001b[0m \u001b[1m29s\u001b[0m 10ms/step - loss: 0.0093 - val_loss: 0.0092\n",
      "Epoch 6/10\n",
      "\u001b[1m2863/2863\u001b[0m \u001b[32m━━━━━━━━━━━━━━━━━━━━\u001b[0m\u001b[37m\u001b[0m \u001b[1m31s\u001b[0m 11ms/step - loss: 0.0091 - val_loss: 0.0091\n",
      "Epoch 7/10\n",
      "\u001b[1m2863/2863\u001b[0m \u001b[32m━━━━━━━━━━━━━━━━━━━━\u001b[0m\u001b[37m\u001b[0m \u001b[1m29s\u001b[0m 10ms/step - loss: 0.0090 - val_loss: 0.0093\n",
      "Epoch 8/10\n",
      "\u001b[1m2863/2863\u001b[0m \u001b[32m━━━━━━━━━━━━━━━━━━━━\u001b[0m\u001b[37m\u001b[0m \u001b[1m29s\u001b[0m 10ms/step - loss: 0.0087 - val_loss: 0.0092\n",
      "Epoch 9/10\n",
      "\u001b[1m2863/2863\u001b[0m \u001b[32m━━━━━━━━━━━━━━━━━━━━\u001b[0m\u001b[37m\u001b[0m \u001b[1m29s\u001b[0m 10ms/step - loss: 0.0086 - val_loss: 0.0090\n",
      "Epoch 10/10\n",
      "\u001b[1m2863/2863\u001b[0m \u001b[32m━━━━━━━━━━━━━━━━━━━━\u001b[0m\u001b[37m\u001b[0m \u001b[1m30s\u001b[0m 10ms/step - loss: 0.0085 - val_loss: 0.0091\n",
      "\u001b[1m354/354\u001b[0m \u001b[32m━━━━━━━━━━━━━━━━━━━━\u001b[0m\u001b[37m\u001b[0m \u001b[1m1s\u001b[0m 1ms/step\n",
      "Mean Squared Error: 0.0007354269829465919\n",
      "Mean Absolute Error: 0.02083275243671029\n",
      "Median Absolute Error: 0.016393004213638318\n",
      "R-squared:  0.9555973100271\n"
     ]
    },
    {
     "ename": "ValueError",
     "evalue": "Invalid filepath extension for saving. Please add either a `.keras` extension for the native Keras format (recommended) or a `.h5` extension. Use `model.export(filepath)` if you want to export a SavedModel for use with TFLite/TFServing/etc. Received: filepath=IM_model.",
     "output_type": "error",
     "traceback": [
      "\u001b[0;31m---------------------------------------------------------------------------\u001b[0m",
      "\u001b[0;31mValueError\u001b[0m                                Traceback (most recent call last)",
      "Cell \u001b[0;32mIn[10], line 36\u001b[0m\n\u001b[1;32m     33\u001b[0m coefficient_of_dermination \u001b[38;5;241m=\u001b[39m r2_score(Y_test, Y_pred)\n\u001b[1;32m     34\u001b[0m \u001b[38;5;28mprint\u001b[39m(\u001b[38;5;124m\"\u001b[39m\u001b[38;5;124mR-squared: \u001b[39m\u001b[38;5;124m\"\u001b[39m,coefficient_of_dermination)\n\u001b[0;32m---> 36\u001b[0m \u001b[43mmodel\u001b[49m\u001b[38;5;241;43m.\u001b[39;49m\u001b[43msave\u001b[49m\u001b[43m(\u001b[49m\u001b[38;5;124;43mf\u001b[39;49m\u001b[38;5;124;43m'\u001b[39;49m\u001b[38;5;124;43mIM_model\u001b[39;49m\u001b[38;5;124;43m'\u001b[39;49m\u001b[43m)\u001b[49m\n",
      "File \u001b[0;32m~/.local/lib/python3.10/site-packages/keras/src/utils/traceback_utils.py:122\u001b[0m, in \u001b[0;36mfilter_traceback.<locals>.error_handler\u001b[0;34m(*args, **kwargs)\u001b[0m\n\u001b[1;32m    119\u001b[0m     filtered_tb \u001b[38;5;241m=\u001b[39m _process_traceback_frames(e\u001b[38;5;241m.\u001b[39m__traceback__)\n\u001b[1;32m    120\u001b[0m     \u001b[38;5;66;03m# To get the full stack trace, call:\u001b[39;00m\n\u001b[1;32m    121\u001b[0m     \u001b[38;5;66;03m# `keras.config.disable_traceback_filtering()`\u001b[39;00m\n\u001b[0;32m--> 122\u001b[0m     \u001b[38;5;28;01mraise\u001b[39;00m e\u001b[38;5;241m.\u001b[39mwith_traceback(filtered_tb) \u001b[38;5;28;01mfrom\u001b[39;00m \u001b[38;5;28;01mNone\u001b[39;00m\n\u001b[1;32m    123\u001b[0m \u001b[38;5;28;01mfinally\u001b[39;00m:\n\u001b[1;32m    124\u001b[0m     \u001b[38;5;28;01mdel\u001b[39;00m filtered_tb\n",
      "File \u001b[0;32m~/.local/lib/python3.10/site-packages/keras/src/saving/saving_api.py:106\u001b[0m, in \u001b[0;36msave_model\u001b[0;34m(model, filepath, overwrite, **kwargs)\u001b[0m\n\u001b[1;32m    102\u001b[0m     legacy_h5_format\u001b[38;5;241m.\u001b[39msave_model_to_hdf5(\n\u001b[1;32m    103\u001b[0m         model, filepath, overwrite, include_optimizer\n\u001b[1;32m    104\u001b[0m     )\n\u001b[1;32m    105\u001b[0m \u001b[38;5;28;01melse\u001b[39;00m:\n\u001b[0;32m--> 106\u001b[0m     \u001b[38;5;28;01mraise\u001b[39;00m \u001b[38;5;167;01mValueError\u001b[39;00m(\n\u001b[1;32m    107\u001b[0m         \u001b[38;5;124m\"\u001b[39m\u001b[38;5;124mInvalid filepath extension for saving. \u001b[39m\u001b[38;5;124m\"\u001b[39m\n\u001b[1;32m    108\u001b[0m         \u001b[38;5;124m\"\u001b[39m\u001b[38;5;124mPlease add either a `.keras` extension for the native Keras \u001b[39m\u001b[38;5;124m\"\u001b[39m\n\u001b[1;32m    109\u001b[0m         \u001b[38;5;124mf\u001b[39m\u001b[38;5;124m\"\u001b[39m\u001b[38;5;124mformat (recommended) or a `.h5` extension. \u001b[39m\u001b[38;5;124m\"\u001b[39m\n\u001b[1;32m    110\u001b[0m         \u001b[38;5;124m\"\u001b[39m\u001b[38;5;124mUse `model.export(filepath)` if you want to export a SavedModel \u001b[39m\u001b[38;5;124m\"\u001b[39m\n\u001b[1;32m    111\u001b[0m         \u001b[38;5;124m\"\u001b[39m\u001b[38;5;124mfor use with TFLite/TFServing/etc. \u001b[39m\u001b[38;5;124m\"\u001b[39m\n\u001b[1;32m    112\u001b[0m         \u001b[38;5;124mf\u001b[39m\u001b[38;5;124m\"\u001b[39m\u001b[38;5;124mReceived: filepath=\u001b[39m\u001b[38;5;132;01m{\u001b[39;00mfilepath\u001b[38;5;132;01m}\u001b[39;00m\u001b[38;5;124m.\u001b[39m\u001b[38;5;124m\"\u001b[39m\n\u001b[1;32m    113\u001b[0m     )\n",
      "\u001b[0;31mValueError\u001b[0m: Invalid filepath extension for saving. Please add either a `.keras` extension for the native Keras format (recommended) or a `.h5` extension. Use `model.export(filepath)` if you want to export a SavedModel for use with TFLite/TFServing/etc. Received: filepath=IM_model."
     ]
    }
   ],
   "source": [
    "model = tf.keras.Sequential([\n",
    "    tf.keras.layers.Flatten(input_shape=(max_sequence_length, num_amino_acids + max_charge_state)),\n",
    "    tf.keras.layers.Dense(300, activation='swish'),\n",
    "    tf.keras.layers.Dense(220, activation='swish'),\n",
    "    tf.keras.layers.Dense(160, activation='swish'),\n",
    "    tf.keras.layers.Dense(100, activation='swish'),\n",
    "    tf.keras.layers.Dense(50, activation='swish'),\n",
    "    tf.keras.layers.Dense(10, activation='swish'),\n",
    "    tf.keras.layers.Dense(1, activation='linear') \n",
    "])\n",
    "\n",
    "# compile\n",
    "model.compile(optimizer='adam', loss=lambda y_true, y_pred: weighted_mean_absolute_error(y_true, y_pred, weights))\n",
    "#model.compile(optimizer='adam', loss='mse')  # Customize loss function for your task\n",
    "\n",
    "# train\n",
    "model.fit(np.array(X_train), Y_train, epochs=10, batch_size=32, validation_split=0.1)\n",
    "\n",
    "# predict\n",
    "Y_pred = model.predict(np.array(X_test))\n",
    "Y_pred = Y_pred.flatten()\n",
    "\n",
    "# evaluate the model\n",
    "mse = np.mean((Y_pred - Y_test) ** 2)\n",
    "print(\"Mean Squared Error:\", mse)\n",
    "\n",
    "mae = np.mean(np.abs(Y_pred - Y_test))\n",
    "print(\"Mean Absolute Error:\", mae)\n",
    "\n",
    "med_ae = np.median(np.abs(Y_pred - Y_test))\n",
    "print(\"Median Absolute Error:\", med_ae)\n",
    "\n",
    "coefficient_of_dermination = r2_score(Y_test, Y_pred)\n",
    "print(\"R-squared: \",coefficient_of_dermination)\n",
    "\n",
    "model.save(f'IM_model')"
   ]
  },
  {
   "cell_type": "code",
   "execution_count": 14,
   "id": "6e3e2cdf-a3d2-406f-aac2-71e2faea79f6",
   "metadata": {},
   "outputs": [
    {
     "name": "stdout",
     "output_type": "stream",
     "text": [
      "INFO:tensorflow:Assets written to: IM_model/assets\n"
     ]
    },
    {
     "name": "stderr",
     "output_type": "stream",
     "text": [
      "INFO:tensorflow:Assets written to: IM_model/assets\n"
     ]
    },
    {
     "name": "stdout",
     "output_type": "stream",
     "text": [
      "Saved artifact at 'IM_model'. The following endpoints are available:\n",
      "\n",
      "* Endpoint 'serve'\n",
      "  args_0 (POSITIONAL_ONLY): TensorSpec(shape=(None, 30, 25), dtype=tf.float32, name='keras_tensor')\n",
      "Output Type:\n",
      "  TensorSpec(shape=(None, 1), dtype=tf.float32, name=None)\n",
      "Captures:\n",
      "  127775410487712: TensorSpec(shape=(), dtype=tf.resource, name=None)\n",
      "  127775410497568: TensorSpec(shape=(), dtype=tf.resource, name=None)\n",
      "  127775410496336: TensorSpec(shape=(), dtype=tf.resource, name=None)\n",
      "  127775410494400: TensorSpec(shape=(), dtype=tf.resource, name=None)\n",
      "  127775410499504: TensorSpec(shape=(), dtype=tf.resource, name=None)\n",
      "  127775410495808: TensorSpec(shape=(), dtype=tf.resource, name=None)\n",
      "  127775410501440: TensorSpec(shape=(), dtype=tf.resource, name=None)\n",
      "  127775410494048: TensorSpec(shape=(), dtype=tf.resource, name=None)\n",
      "  127775410503376: TensorSpec(shape=(), dtype=tf.resource, name=None)\n",
      "  127775410502672: TensorSpec(shape=(), dtype=tf.resource, name=None)\n",
      "  127775418910320: TensorSpec(shape=(), dtype=tf.resource, name=None)\n",
      "  127775418910496: TensorSpec(shape=(), dtype=tf.resource, name=None)\n",
      "  127775418909968: TensorSpec(shape=(), dtype=tf.resource, name=None)\n",
      "  127775418910672: TensorSpec(shape=(), dtype=tf.resource, name=None)\n"
     ]
    }
   ],
   "source": [
    "model.export(f'IM_model')\n"
   ]
  },
  {
   "cell_type": "code",
   "execution_count": 16,
   "id": "fb2f30b2-759e-4ddd-9d6f-5bc801563a66",
   "metadata": {},
   "outputs": [
    {
     "ename": "AttributeError",
     "evalue": "'numpy.ndarray' object has no attribute 'dim'",
     "output_type": "error",
     "traceback": [
      "\u001b[0;31m---------------------------------------------------------------------------\u001b[0m",
      "\u001b[0;31mAttributeError\u001b[0m                            Traceback (most recent call last)",
      "Cell \u001b[0;32mIn[16], line 1\u001b[0m\n\u001b[0;32m----> 1\u001b[0m \u001b[43mY_pred\u001b[49m\u001b[38;5;241;43m.\u001b[39;49m\u001b[43mdim\u001b[49m\n",
      "\u001b[0;31mAttributeError\u001b[0m: 'numpy.ndarray' object has no attribute 'dim'"
     ]
    }
   ],
   "source": [
    "Y_pred"
   ]
  },
  {
   "cell_type": "code",
   "execution_count": 19,
   "id": "14a7deb8-b814-47cb-9a17-bf385eb5ab60",
   "metadata": {},
   "outputs": [
    {
     "data": {
      "text/plain": [
       "0.7133206"
      ]
     },
     "execution_count": 19,
     "metadata": {},
     "output_type": "execute_result"
    }
   ],
   "source": [
    "Y_pred[2]"
   ]
  },
  {
   "cell_type": "code",
   "execution_count": 20,
   "id": "ab11fab8-0ff0-4219-9f7f-0410f5be1cc3",
   "metadata": {},
   "outputs": [],
   "source": [
    "from matplotlib import pyplot as plt \n"
   ]
  },
  {
   "cell_type": "code",
   "execution_count": 22,
   "id": "2ce19d26-6f32-43bb-a55c-b1d1b72125a3",
   "metadata": {},
   "outputs": [
    {
     "data": {
      "image/png": "[encoded data removed]",
      "text/plain": [
       "<Figure size 640x480 with 1 Axes>"
      ]
     },
     "metadata": {},
     "output_type": "display_data"
    }
   ],
   "source": [
    "# Function to plot \n",
    "plt.scatter(Y_pred, Y_test) \n",
    " \n",
    "# function to show the plot \n",
    "plt.show()"
   ]
  },
  {
   "cell_type": "code",
   "execution_count": null,
   "id": "f5b6d922-aee4-4756-a671-7e7d10b52836",
   "metadata": {},
   "outputs": [],
   "source": []
  }
 ],
 "metadata": {
  "kernelspec": {
   "display_name": "Python 3 (ipykernel)",
   "language": "python",
   "name": "python3"
  },
  "language_info": {
   "codemirror_mode": {
    "name": "ipython",
    "version": 3
   },
   "file_extension": ".py",
   "mimetype": "text/x-python",
   "name": "python",
   "nbconvert_exporter": "python",
   "pygments_lexer": "ipython3",
   "version": "3.10.12"
  }
 },
 "nbformat": 4,
 "nbformat_minor": 5
}
