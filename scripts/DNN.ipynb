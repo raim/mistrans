{
 "cells": [
  {
   "cell_type": "code",
   "execution_count": 653,
   "id": "96708a47-caae-4df2-bdd7-8a9e24ba97fd",
   "metadata": {},
   "outputs": [],
   "source": [
    "import tensorflow as tf\n",
    "import pandas as pd\n",
    "import numpy as np\n",
    "from sklearn.model_selection import train_test_split\n",
    "from sklearn.neighbors import KernelDensity\n",
    "from sklearn.metrics import r2_score"
   ]
  },
  {
   "cell_type": "code",
   "execution_count": 654,
   "id": "c716334a-fe5d-4df1-80b1-0d88c2404625",
   "metadata": {},
   "outputs": [
    {
     "name": "stdout",
     "output_type": "stream",
     "text": [
      "4\n",
      "153\n"
     ]
    }
   ],
   "source": [
    "path = \"/home/raim/data/mistrans/processedData/saap_context.tsv\"\n",
    "df = pd.read_csv(path, delimiter='\\t')\n",
    "distinct_df = pd.DataFrame(df)\n",
    "#distinct_df = original_df.drop_duplicates(subset='transition_group_id')\n",
    "\n",
    "TYPE = 'codon' #'peptide'\n",
    "if (TYPE=='peptide'):\n",
    "    ABC = \"ACDEFGHIKLMNPQRSTVWYXUZ\"   # NOTE: U: selenocysteine, X: unknown, Z:gaps\n",
    "else:\n",
    "    ABC = \"AGCT\"\n",
    "\n",
    "max_sequence_length = len(distinct_df[TYPE][1])    # set the maximum sequence length \n",
    "num_amino_acids = len(ABC)            # number of possible amino acids\n",
    "\n",
    "\n",
    "#print(distinct_df['peptide'])\n",
    "print(len(ABC))\n",
    "print(len(distinct_df[TYPE][1]))"
   ]
  },
  {
   "cell_type": "code",
   "execution_count": 655,
   "id": "2efeebd0-d3bb-4928-851a-8228611d6e82",
   "metadata": {},
   "outputs": [
    {
     "name": "stdout",
     "output_type": "stream",
     "text": [
      "153\n"
     ]
    }
   ],
   "source": [
    "# create a dictionary to map amino acids to their indices\n",
    "amino_acid_to_index = {aa: i for i, aa in enumerate(ABC)}\n",
    "\n",
    "def one_hot_encode_sequence(sequence):\n",
    "    one_hot_sequence = np.zeros((max_sequence_length, num_amino_acids), dtype=np.float32)\n",
    "    for i, aa in enumerate(sequence[:max_sequence_length]):\n",
    "        aa_index = amino_acid_to_index.get(aa.upper(), None)\n",
    "        if aa_index is not None:\n",
    "            one_hot_sequence[i, aa_index] = 1.0\n",
    "    return one_hot_sequence\n",
    "    \n",
    "X_peptide = [one_hot_encode_sequence(seq) for seq in distinct_df[TYPE]]\n",
    "\n",
    "#print(X_peptide[1])\n",
    "print(len(X_peptide[1]))\n",
    "#print(distinct_df['median'].values)"
   ]
  },
  {
   "cell_type": "code",
   "execution_count": 656,
   "id": "c1c77471-68c9-43d3-bc7b-2048717d5924",
   "metadata": {},
   "outputs": [],
   "source": [
    "\n",
    "\n",
    "# concatenate peptide sequences \n",
    "#X = [np.concatenate((X_peptide[i], np.tile(X_charge[i], (max_sequence_length, 1))), axis=1) for i in range(len(X_peptide))]\n",
    "X = X_peptide\n",
    "Y = distinct_df['median'].values\n",
    "#weights = 1/distinct_df['cv'].values\n",
    "\n",
    "# Split the data into training and testing sets\n",
    "#X_train, X_test, Y_train, Y_test, weights_train, weights_test = train_test_split(X, Y, weights, test_size=0.1, random_state=42)\n",
    "X_train, X_test, Y_train, Y_test = train_test_split(X, Y, test_size=0.1, random_state=42)"
   ]
  },
  {
   "cell_type": "code",
   "execution_count": 657,
   "id": "2fd88e95-1a66-4add-9935-d517f2a8f633",
   "metadata": {},
   "outputs": [
    {
     "name": "stdout",
     "output_type": "stream",
     "text": [
      "Epoch 1/10\n"
     ]
    },
    {
     "name": "stderr",
     "output_type": "stream",
     "text": [
      "/home/raim/.local/lib/python3.10/site-packages/keras/src/layers/reshaping/flatten.py:37: UserWarning: Do not pass an `input_shape`/`input_dim` argument to a layer. When using Sequential models, prefer using an `Input(shape)` object as the first layer in the model instead.\n",
      "  super().__init__(**kwargs)\n"
     ]
    },
    {
     "name": "stdout",
     "output_type": "stream",
     "text": [
      "\u001b[1m146/146\u001b[0m \u001b[32m━━━━━━━━━━━━━━━━━━━━\u001b[0m\u001b[37m\u001b[0m \u001b[1m2s\u001b[0m 4ms/step - loss: 1.5848 - val_loss: 1.4639\n",
      "Epoch 2/10\n",
      "\u001b[1m146/146\u001b[0m \u001b[32m━━━━━━━━━━━━━━━━━━━━\u001b[0m\u001b[37m\u001b[0m \u001b[1m1s\u001b[0m 4ms/step - loss: 1.3310 - val_loss: 1.3698\n",
      "Epoch 3/10\n",
      "\u001b[1m146/146\u001b[0m \u001b[32m━━━━━━━━━━━━━━━━━━━━\u001b[0m\u001b[37m\u001b[0m \u001b[1m1s\u001b[0m 4ms/step - loss: 1.0559 - val_loss: 1.3933\n",
      "Epoch 4/10\n",
      "\u001b[1m146/146\u001b[0m \u001b[32m━━━━━━━━━━━━━━━━━━━━\u001b[0m\u001b[37m\u001b[0m \u001b[1m1s\u001b[0m 4ms/step - loss: 0.7007 - val_loss: 1.6416\n",
      "Epoch 5/10\n",
      "\u001b[1m146/146\u001b[0m \u001b[32m━━━━━━━━━━━━━━━━━━━━\u001b[0m\u001b[37m\u001b[0m \u001b[1m1s\u001b[0m 4ms/step - loss: 0.4214 - val_loss: 1.5331\n",
      "Epoch 6/10\n",
      "\u001b[1m146/146\u001b[0m \u001b[32m━━━━━━━━━━━━━━━━━━━━\u001b[0m\u001b[37m\u001b[0m \u001b[1m1s\u001b[0m 4ms/step - loss: 0.2643 - val_loss: 1.6154\n",
      "Epoch 7/10\n",
      "\u001b[1m146/146\u001b[0m \u001b[32m━━━━━━━━━━━━━━━━━━━━\u001b[0m\u001b[37m\u001b[0m \u001b[1m1s\u001b[0m 4ms/step - loss: 0.2099 - val_loss: 1.5639\n",
      "Epoch 8/10\n",
      "\u001b[1m146/146\u001b[0m \u001b[32m━━━━━━━━━━━━━━━━━━━━\u001b[0m\u001b[37m\u001b[0m \u001b[1m1s\u001b[0m 4ms/step - loss: 0.1757 - val_loss: 1.5225\n",
      "Epoch 9/10\n",
      "\u001b[1m146/146\u001b[0m \u001b[32m━━━━━━━━━━━━━━━━━━━━\u001b[0m\u001b[37m\u001b[0m \u001b[1m1s\u001b[0m 4ms/step - loss: 0.1422 - val_loss: 1.5113\n",
      "Epoch 10/10\n",
      "\u001b[1m146/146\u001b[0m \u001b[32m━━━━━━━━━━━━━━━━━━━━\u001b[0m\u001b[37m\u001b[0m \u001b[1m1s\u001b[0m 4ms/step - loss: 0.1355 - val_loss: 1.5021\n",
      "\u001b[1m19/19\u001b[0m \u001b[32m━━━━━━━━━━━━━━━━━━━━\u001b[0m\u001b[37m\u001b[0m \u001b[1m0s\u001b[0m 4ms/step\n"
     ]
    }
   ],
   "source": [
    "def weighted_mean_absolute_error(y_true, y_pred, weights):\n",
    "    \"\"\"\n",
    "    Weighted Mean Absolute Error custom loss function.\n",
    "\n",
    "    :param y_true: True labels\n",
    "    :param y_pred: Predicted labels\n",
    "    :param weights: Weights for each sample (based on Ms1ProfileCorr)\n",
    "    :return: Weighted MAE\n",
    "    \"\"\"\n",
    "    # Calculate the absolute error\n",
    "    error = tf.abs(y_pred - y_true)\n",
    "    transformed_weights = weights+0.1\n",
    "\n",
    "    # Apply weights\n",
    "    weighted_error = error * transformed_weights\n",
    "    \n",
    "    # Return the mean of the weighted error\n",
    "    return tf.reduce_mean(weighted_error)\n",
    "\n",
    "model = tf.keras.Sequential([\n",
    "    tf.keras.layers.Flatten(input_shape=(max_sequence_length, num_amino_acids)),\n",
    "#    tf.keras.layers.Dropout(.1),\n",
    "    tf.keras.layers.Dense(300, activation='relu'),\n",
    "    tf.keras.layers.Dropout(.1),\n",
    "    tf.keras.layers.Dense(220, activation='relu'),\n",
    "    tf.keras.layers.Dropout(.1),\n",
    "    tf.keras.layers.Dense(160, activation='relu'),\n",
    "#    tf.keras.layers.Dropout(.1),\n",
    "    tf.keras.layers.Dense(100, activation='relu'),\n",
    "#    tf.keras.layers.Dropout(.1),\n",
    "    tf.keras.layers.Dense(50, activation='relu'),\n",
    "#    tf.keras.layers.Dropout(.1),\n",
    "    tf.keras.layers.Dense(10, activation='relu'),\n",
    "#    tf.keras.layers.Dropout(.1),\n",
    "    tf.keras.layers.Dense(1, activation='linear') \n",
    "])\n",
    "\n",
    "# compile\n",
    "#model.compile(optimizer='adam', loss=lambda y_true, y_pred: weighted_mean_absolute_error(y_true, y_pred, weights))\n",
    "model.compile(optimizer='adam', loss='mse')  # Customize loss function for your task\n",
    "\n",
    "# train\n",
    "model.fit(np.array(X_train), Y_train, epochs=10, batch_size=32, validation_split=0.1)\n",
    "\n",
    "# predict\n",
    "Y_pred = model.predict(np.array(X_test))\n",
    "Y_pred = Y_pred.flatten()"
   ]
  },
  {
   "cell_type": "code",
   "execution_count": 658,
   "id": "0575f203-dfa7-45fb-a841-0f7b8aa2656c",
   "metadata": {},
   "outputs": [
    {
     "name": "stdout",
     "output_type": "stream",
     "text": [
      "Mean Squared Error: 1.5601668349120146\n",
      "Mean Absolute Error: 0.9894709302889917\n",
      "Median Absolute Error: 0.8196759123382171\n",
      "R-squared:  0.016962019874805057\n",
      "r:  0.2696497281346767\n"
     ]
    }
   ],
   "source": [
    "# evaluate the model\n",
    "mse = np.mean((Y_pred - Y_test) ** 2)\n",
    "print(\"Mean Squared Error:\", mse)\n",
    "\n",
    "mae = np.mean(np.abs(Y_pred - Y_test))\n",
    "print(\"Mean Absolute Error:\", mae)\n",
    "\n",
    "med_ae = np.median(np.abs(Y_pred - Y_test))\n",
    "print(\"Median Absolute Error:\", med_ae)\n",
    "\n",
    "coefficient_of_dermination = r2_score(Y_test, Y_pred)\n",
    "print(\"R-squared: \",coefficient_of_dermination)\n",
    "\n",
    "pearsonr = np.corrcoef(Y_test, Y_pred)\n",
    "print(\"r: \",pearsonr[0,1])\n",
    "\n",
    "file_name=\"/home/raim/data/mistrans/processedData/saap_context_prediction.tsv\"\n",
    "outdf = pd.DataFrame({'RAAS.real':Y_test, 'RAAS.predicted':Y_pred})\n",
    "outdf.to_csv(file_name, sep='\\t')"
   ]
  },
  {
   "cell_type": "code",
   "execution_count": 659,
   "id": "2ce19d26-6f32-43bb-a55c-b1d1b72125a3",
   "metadata": {},
   "outputs": [
    {
     "data": {
      "image/png": "[encoded data removed]",
      "text/plain": [
       "<Figure size 640x480 with 1 Axes>"
      ]
     },
     "metadata": {},
     "output_type": "display_data"
    },
    {
     "data": {
      "image/png": "[encoded data removed]",
      "text/plain": [
       "<Figure size 640x480 with 1 Axes>"
      ]
     },
     "metadata": {},
     "output_type": "display_data"
    }
   ],
   "source": [
    "from matplotlib import pyplot as plt \n",
    "# Function to plot \n",
    "plt.scatter(Y_test, Y_pred) \n",
    " \n",
    "# function to show the plot \n",
    "plt.show()\n",
    "\n",
    "plt.hist(distinct_df['median'].values)\n",
    "plt.show()"
   ]
  },
  {
   "cell_type": "code",
   "execution_count": null,
   "id": "ec092ed3-970d-4952-831a-9b591a641d07",
   "metadata": {},
   "outputs": [],
   "source": []
  }
 ],
 "metadata": {
  "kernelspec": {
   "display_name": "Python 3 (ipykernel)",
   "language": "python",
   "name": "python3"
  },
  "language_info": {
   "codemirror_mode": {
    "name": "ipython",
    "version": 3
   },
   "file_extension": ".py",
   "mimetype": "text/x-python",
   "name": "python",
   "nbconvert_exporter": "python",
   "pygments_lexer": "ipython3",
   "version": "3.10.12"
  }
 },
 "nbformat": 4,
 "nbformat_minor": 5
}
