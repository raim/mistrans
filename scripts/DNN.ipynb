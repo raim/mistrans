{
 "cells": [
  {
   "cell_type": "code",
   "execution_count": null,
   "id": "96708a47-caae-4df2-bdd7-8a9e24ba97fd",
   "metadata": {},
   "outputs": [],
   "source": [
    "import tensorflow as tf\n",
    "import pandas as pd\n",
    "import numpy as np\n",
    "from sklearn.model_selection import train_test_split\n",
    "from sklearn.neighbors import KernelDensity\n",
    "from sklearn.metrics import r2_score"
   ]
  },
  {
   "cell_type": "code",
   "execution_count": null,
   "id": "81d2e810-b62e-470f-8491-25eaa7e44d6d",
   "metadata": {},
   "outputs": [],
   "source": [
    "path = \"/home/j.derks/mTRAQ_WC_THP1_mac_library_04202023.tsv\"\n",
    "df = pd.read_csv(path, delimiter='\\t')\n",
    "original_df = pd.DataFrame(df)\n",
    "distinct_df = original_df.drop_duplicates(subset='transition_group_id')"
   ]
  },
  {
   "cell_type": "code",
   "execution_count": null,
   "id": "0d352668-8db4-4373-b4bd-72f1499bf20a",
   "metadata": {},
   "outputs": [],
   "source": [
    "peptide_sequence = \"ACDEFGHIKLMNPQRSTVWYacdefghiklmnpqrstvwy\"   # define peptide sequence as a string \n",
    "max_sequence_length = 30    # set the maximum sequence length\n",
    "num_amino_acids = 20      # number of possible amino acids\n",
    "\n",
    "# create a dictionary to map amino acids to their indices\n",
    "amino_acid_to_index = {aa: i for i, aa in enumerate(peptide_sequence)}\n",
    "\n",
    "def one_hot_encode_sequence(sequence):\n",
    "    one_hot_sequence = np.zeros((max_sequence_length, num_amino_acids), dtype=np.float32)\n",
    "    for i, aa in enumerate(sequence[:max_sequence_length]):\n",
    "        aa_index = amino_acid_to_index.get(aa.upper(), None)\n",
    "        if aa_index is not None:\n",
    "            one_hot_sequence[i, aa_index] = 1.0\n",
    "    return one_hot_sequence\n",
    "\n",
    "X_peptide = [one_hot_encode_sequence(seq) for seq in distinct_df['PeptideSequence']]\n",
    "\n",
    "# One-hot encode charge states (assumes a maximum charge state of 5)\n",
    "max_charge_state = 5\n",
    "X_charge = np.zeros((len(distinct_df), max_charge_state), dtype=np.float32)\n",
    "\n",
    "for i, charge in enumerate(distinct_df['PrecursorCharge']):\n",
    "    if 1 <= charge <= max_charge_state:\n",
    "        X_charge[i, charge - 1] = 1.0\n",
    "\n",
    "# concatenate peptide sequences and charge states to create the final input (X)\n",
    "X = [np.concatenate((X_peptide[i], np.tile(X_charge[i], (max_sequence_length, 1))), axis=1) for i in range(len(X_peptide))]\n",
    "Y = distinct_df['IonMobility'].values\n",
    "weights = distinct_df['Ms1ProfileCorr'].values\n",
    "\n",
    "# Split the data into training and testing sets\n",
    "X_train, X_test, Y_train, Y_test, weights_train, weights_test = train_test_split(X, Y, weights, test_size=0.1, random_state=42)"
   ]
  },
  {
   "cell_type": "code",
   "execution_count": null,
   "id": "b30a1344-5e3e-416f-a9c7-e18481f46b43",
   "metadata": {},
   "outputs": [],
   "source": [
    "def weighted_mean_absolute_error(y_true, y_pred, weights):\n",
    "    \"\"\"\n",
    "    Weighted Mean Absolute Error custom loss function.\n",
    "\n",
    "    :param y_true: True labels\n",
    "    :param y_pred: Predicted labels\n",
    "    :param weights: Weights for each sample (based on Ms1ProfileCorr)\n",
    "    :return: Weighted MAE\n",
    "    \"\"\"\n",
    "    # Calculate the absolute error\n",
    "    error = tf.abs(y_pred - y_true)\n",
    "    transformed_weights = weights+0.1\n",
    "\n",
    "    # Apply weights\n",
    "    weighted_error = error * transformed_weights\n",
    "    \n",
    "    # Return the mean of the weighted error\n",
    "    return tf.reduce_mean(weighted_error)"
   ]
  },
  {
   "cell_type": "code",
   "execution_count": null,
   "id": "e6a5abff-314b-4fd1-928b-368783ebcd6d",
   "metadata": {},
   "outputs": [],
   "source": [
    "model = tf.keras.Sequential([\n",
    "    tf.keras.layers.Flatten(input_shape=(max_sequence_length, num_amino_acids + max_charge_state)),\n",
    "    tf.keras.layers.Dense(300, activation='swish'),\n",
    "    tf.keras.layers.Dense(220, activation='swish'),\n",
    "    tf.keras.layers.Dense(160, activation='swish'),\n",
    "    tf.keras.layers.Dense(100, activation='swish'),\n",
    "    tf.keras.layers.Dense(50, activation='swish'),\n",
    "    tf.keras.layers.Dense(10, activation='swish'),\n",
    "    tf.keras.layers.Dense(1, activation='linear') \n",
    "])\n",
    "\n",
    "# compile\n",
    "model.compile(optimizer='adam', loss=lambda y_true, y_pred: weighted_mean_absolute_error(y_true, y_pred, weights))\n",
    "#model.compile(optimizer='adam', loss='mse')  # Customize loss function for your task\n",
    "\n",
    "# train\n",
    "model.fit(np.array(X_train), Y_train, epochs=10, batch_size=32, validation_split=0.1)\n",
    "\n",
    "# predict\n",
    "Y_pred = model.predict(np.array(X_test))\n",
    "Y_pred = Y_pred.flatten()\n",
    "\n",
    "# evaluate the model\n",
    "mse = np.mean((Y_pred - Y_test) ** 2)\n",
    "print(\"Mean Squared Error:\", mse)\n",
    "\n",
    "mae = np.mean(np.abs(Y_pred - Y_test))\n",
    "print(\"Mean Absolute Error:\", mae)\n",
    "\n",
    "med_ae = np.median(np.abs(Y_pred - Y_test))\n",
    "print(\"Median Absolute Error:\", med_ae)\n",
    "\n",
    "coefficient_of_dermination = r2_score(Y_test, Y_pred)\n",
    "print(\"R-squared: \",coefficient_of_dermination)\n",
    "\n",
    "model.save(f'IM_model')"
   ]
  }
 ],
 "metadata": {
  "kernelspec": {
   "display_name": "Python 3",
   "language": "python",
   "name": "python3"
  },
  "language_info": {
   "codemirror_mode": {
    "name": "ipython",
    "version": 3
   },
   "file_extension": ".py",
   "mimetype": "text/x-python",
   "name": "python",
   "nbconvert_exporter": "python",
   "pygments_lexer": "ipython3",
   "version": "3.8.8"
  }
 },
 "nbformat": 4,
 "nbformat_minor": 5
}
