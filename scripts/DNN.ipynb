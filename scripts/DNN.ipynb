{
 "cells": [
  {
   "cell_type": "code",
   "execution_count": 67,
   "id": "96708a47-caae-4df2-bdd7-8a9e24ba97fd",
   "metadata": {},
   "outputs": [],
   "source": [
    "import tensorflow as tf\n",
    "import pandas as pd\n",
    "import numpy as np\n",
    "from sklearn.model_selection import train_test_split\n",
    "from sklearn.neighbors import KernelDensity\n",
    "from sklearn.metrics import r2_score"
   ]
  },
  {
   "cell_type": "code",
   "execution_count": 81,
   "id": "81d2e810-b62e-470f-8491-25eaa7e44d6d",
   "metadata": {},
   "outputs": [],
   "source": [
    "#path = \"/home/raim/Downloads/mTRAQ_WC_THP1_mac_library_04202023.tsv\"\n",
    "path = \"/home/raim/data/mistrans/processedData/saap_context.tsv\"\n",
    "df = pd.read_csv(path, delimiter='\\t')\n",
    "distinct_df = pd.DataFrame(df)\n",
    "#distinct_df = original_df.drop_duplicates(subset='transition_group_id')"
   ]
  },
  {
   "cell_type": "code",
   "execution_count": 82,
   "id": "f1cf1e86-a1f0-4652-ad17-61d1f7695093",
   "metadata": {},
   "outputs": [
    {
     "name": "stdout",
     "output_type": "stream",
     "text": [
      "0        GSKAAAANLCGDVILAIDGF\n",
      "1        VILAIDGFGTSMTHADAQDR\n",
      "2        APAPEEEMDEEQALAAEPKA\n",
      "3        AAAPAPEEEMECEQALAAEP\n",
      "4        AAPAPVSEAVRTSMCSIQSA\n",
      "                 ...         \n",
      "10005    HYVGGFYGGCEALMKLELVH\n",
      "10006    HLRSYKYYTDIVNPDGFAGF\n",
      "10007    LRYYTSASGDMVSLKDYCTR\n",
      "10008    GRYYWGGQYTDMAKHGTDDG\n",
      "10009    HAANPNGRYYGGQYTWDMAK\n",
      "Name: peptide, Length: 10010, dtype: object\n"
     ]
    }
   ],
   "source": [
    "print(distinct_df['peptide'])"
   ]
  },
  {
   "cell_type": "code",
   "execution_count": 83,
   "id": "b8ba6c9b-4185-4804-ae8f-1a5c35f93afd",
   "metadata": {},
   "outputs": [],
   "source": [
    "peptide_sequence = \"ACDEFGHIKLMNPQRSTVWYXUZacdefghiklmnpqrstvwyxuz\"   # define peptide sequence as a string \n",
    "max_sequence_length = 20    # set the maximum sequence length\n",
    "num_amino_acids = 23      # number of possible amino acids\n",
    "\n",
    "# create a dictionary to map amino acids to their indices\n",
    "amino_acid_to_index = {aa: i for i, aa in enumerate(peptide_sequence)}\n",
    "\n",
    "def one_hot_encode_sequence(sequence):\n",
    "    one_hot_sequence = np.zeros((max_sequence_length, num_amino_acids), dtype=np.float32)\n",
    "    for i, aa in enumerate(sequence[:max_sequence_length]):\n",
    "        aa_index = amino_acid_to_index.get(aa.upper(), None)\n",
    "        if aa_index is not None:\n",
    "            one_hot_sequence[i, aa_index] = 1.0\n",
    "    return one_hot_sequence\n",
    "    \n",
    "X_peptide = [one_hot_encode_sequence(seq) for seq in distinct_df['peptide']]\n"
   ]
  },
  {
   "cell_type": "code",
   "execution_count": 84,
   "id": "6388b160-d574-4dac-b9b5-abd0e5bdb375",
   "metadata": {},
   "outputs": [
    {
     "name": "stdout",
     "output_type": "stream",
     "text": [
      "[-1.66926474 -2.7399428  -0.42256248 ... -2.05512912 -2.87089394\n",
      " -2.49189938]\n"
     ]
    }
   ],
   "source": [
    "print(distinct_df['median'].values)"
   ]
  },
  {
   "cell_type": "code",
   "execution_count": 85,
   "id": "c1c77471-68c9-43d3-bc7b-2048717d5924",
   "metadata": {},
   "outputs": [],
   "source": [
    "\n",
    "\n",
    "# concatenate peptide sequences \n",
    "#X = [np.concatenate((X_peptide[i], np.tile(X_charge[i], (max_sequence_length, 1))), axis=1) for i in range(len(X_peptide))]\n",
    "X = X_peptide\n",
    "Y = distinct_df['median'].values\n",
    "#weights = distinct_df['Ms1ProfileCorr'].values\n",
    "\n",
    "# Split the data into training and testing sets\n",
    "#X_train, X_test, Y_train, Y_test, weights_train, weights_test = train_test_split(X, Y, weights, test_size=0.1, random_state=42)\n",
    "X_train, X_test, Y_train, Y_test = train_test_split(X, Y, test_size=0.1, random_state=42)"
   ]
  },
  {
   "cell_type": "code",
   "execution_count": 86,
   "id": "b30a1344-5e3e-416f-a9c7-e18481f46b43",
   "metadata": {},
   "outputs": [],
   "source": [
    "def weighted_mean_absolute_error(y_true, y_pred, weights):\n",
    "    \"\"\"\n",
    "    Weighted Mean Absolute Error custom loss function.\n",
    "\n",
    "    :param y_true: True labels\n",
    "    :param y_pred: Predicted labels\n",
    "    :param weights: Weights for each sample (based on Ms1ProfileCorr)\n",
    "    :return: Weighted MAE\n",
    "    \"\"\"\n",
    "    # Calculate the absolute error\n",
    "    error = tf.abs(y_pred - y_true)\n",
    "    transformed_weights = weights+0.1\n",
    "\n",
    "    # Apply weights\n",
    "    weighted_error = error * transformed_weights\n",
    "    \n",
    "    # Return the mean of the weighted error\n",
    "    return tf.reduce_mean(weighted_error)"
   ]
  },
  {
   "cell_type": "code",
   "execution_count": 87,
   "id": "e6a5abff-314b-4fd1-928b-368783ebcd6d",
   "metadata": {},
   "outputs": [
    {
     "name": "stdout",
     "output_type": "stream",
     "text": [
      "Epoch 1/3\n"
     ]
    },
    {
     "name": "stderr",
     "output_type": "stream",
     "text": [
      "/home/raim/.local/lib/python3.10/site-packages/keras/src/layers/reshaping/flatten.py:37: UserWarning: Do not pass an `input_shape`/`input_dim` argument to a layer. When using Sequential models, prefer using an `Input(shape)` object as the first layer in the model instead.\n",
      "  super().__init__(**kwargs)\n"
     ]
    },
    {
     "name": "stdout",
     "output_type": "stream",
     "text": [
      "\u001b[1m254/254\u001b[0m \u001b[32m━━━━━━━━━━━━━━━━━━━━\u001b[0m\u001b[37m\u001b[0m \u001b[1m2s\u001b[0m 4ms/step - loss: 2.0371 - val_loss: 1.5274\n",
      "Epoch 2/3\n",
      "\u001b[1m254/254\u001b[0m \u001b[32m━━━━━━━━━━━━━━━━━━━━\u001b[0m\u001b[37m\u001b[0m \u001b[1m1s\u001b[0m 3ms/step - loss: 1.4169 - val_loss: 1.5230\n",
      "Epoch 3/3\n",
      "\u001b[1m254/254\u001b[0m \u001b[32m━━━━━━━━━━━━━━━━━━━━\u001b[0m\u001b[37m\u001b[0m \u001b[1m1s\u001b[0m 3ms/step - loss: 1.3765 - val_loss: 1.5356\n",
      "\u001b[1m32/32\u001b[0m \u001b[32m━━━━━━━━━━━━━━━━━━━━\u001b[0m\u001b[37m\u001b[0m \u001b[1m0s\u001b[0m 3ms/step\n",
      "Mean Squared Error: 1.4702109340890825\n",
      "Mean Absolute Error: 0.9666166490368407\n",
      "Median Absolute Error: 0.8224100613735383\n",
      "R-squared:  0.04258232378779192\n"
     ]
    }
   ],
   "source": [
    "model = tf.keras.Sequential([\n",
    "    tf.keras.layers.Flatten(input_shape=(max_sequence_length, num_amino_acids)),\n",
    "    tf.keras.layers.Dense(300, activation='swish'),\n",
    "    tf.keras.layers.Dense(220, activation='swish'),\n",
    "    tf.keras.layers.Dense(160, activation='swish'),\n",
    "    tf.keras.layers.Dense(100, activation='swish'),\n",
    "    tf.keras.layers.Dense(50, activation='swish'),\n",
    "    tf.keras.layers.Dense(10, activation='swish'),\n",
    "    tf.keras.layers.Dense(1, activation='linear') \n",
    "])\n",
    "\n",
    "# compile\n",
    "#model.compile(optimizer='adam', loss=lambda y_true, y_pred: weighted_mean_absolute_error(y_true, y_pred, weights))\n",
    "model.compile(optimizer='adam', loss='mse')  # Customize loss function for your task\n",
    "\n",
    "# train\n",
    "model.fit(np.array(X_train), Y_train, epochs=3, batch_size=32, validation_split=0.1)\n",
    "\n",
    "# predict\n",
    "Y_pred = model.predict(np.array(X_test))\n",
    "Y_pred = Y_pred.flatten()\n",
    "\n",
    "# evaluate the model\n",
    "mse = np.mean((Y_pred - Y_test) ** 2)\n",
    "print(\"Mean Squared Error:\", mse)\n",
    "\n",
    "mae = np.mean(np.abs(Y_pred - Y_test))\n",
    "print(\"Mean Absolute Error:\", mae)\n",
    "\n",
    "med_ae = np.median(np.abs(Y_pred - Y_test))\n",
    "print(\"Median Absolute Error:\", med_ae)\n",
    "\n",
    "coefficient_of_dermination = r2_score(Y_test, Y_pred)\n",
    "print(\"R-squared: \",coefficient_of_dermination)\n",
    "\n",
    "#model.save(f'IM_model')"
   ]
  },
  {
   "cell_type": "code",
   "execution_count": 88,
   "id": "6e3e2cdf-a3d2-406f-aac2-71e2faea79f6",
   "metadata": {},
   "outputs": [
    {
     "name": "stdout",
     "output_type": "stream",
     "text": [
      "INFO:tensorflow:Assets written to: IM_model/assets\n"
     ]
    },
    {
     "name": "stderr",
     "output_type": "stream",
     "text": [
      "INFO:tensorflow:Assets written to: IM_model/assets\n"
     ]
    },
    {
     "name": "stdout",
     "output_type": "stream",
     "text": [
      "Saved artifact at 'IM_model'. The following endpoints are available:\n",
      "\n",
      "* Endpoint 'serve'\n",
      "  args_0 (POSITIONAL_ONLY): TensorSpec(shape=(None, 20, 23), dtype=tf.float32, name='keras_tensor_81')\n",
      "Output Type:\n",
      "  TensorSpec(shape=(None, 1), dtype=tf.float32, name=None)\n",
      "Captures:\n",
      "  127775374793312: TensorSpec(shape=(), dtype=tf.resource, name=None)\n",
      "  127775372666736: TensorSpec(shape=(), dtype=tf.resource, name=None)\n",
      "  127775372665504: TensorSpec(shape=(), dtype=tf.resource, name=None)\n",
      "  127775372672720: TensorSpec(shape=(), dtype=tf.resource, name=None)\n",
      "  127775372667792: TensorSpec(shape=(), dtype=tf.resource, name=None)\n",
      "  127775372669200: TensorSpec(shape=(), dtype=tf.resource, name=None)\n",
      "  127775372660400: TensorSpec(shape=(), dtype=tf.resource, name=None)\n",
      "  127775372669376: TensorSpec(shape=(), dtype=tf.resource, name=None)\n",
      "  127775372658816: TensorSpec(shape=(), dtype=tf.resource, name=None)\n",
      "  127775372664272: TensorSpec(shape=(), dtype=tf.resource, name=None)\n",
      "  127775372671312: TensorSpec(shape=(), dtype=tf.resource, name=None)\n",
      "  127775372663568: TensorSpec(shape=(), dtype=tf.resource, name=None)\n",
      "  127775372657760: TensorSpec(shape=(), dtype=tf.resource, name=None)\n",
      "  127775372664624: TensorSpec(shape=(), dtype=tf.resource, name=None)\n"
     ]
    }
   ],
   "source": [
    "model.export(f'IM_model')\n"
   ]
  },
  {
   "cell_type": "code",
   "execution_count": 94,
   "id": "2ce19d26-6f32-43bb-a55c-b1d1b72125a3",
   "metadata": {},
   "outputs": [
    {
     "data": {
      "image/png": "[encoded data removed]",
      "text/plain": [
       "<Figure size 640x480 with 1 Axes>"
      ]
     },
     "metadata": {},
     "output_type": "display_data"
    }
   ],
   "source": [
    "from matplotlib import pyplot as plt \n",
    "# Function to plot \n",
    "plt.scatter(Y_pred, Y_test) \n",
    " \n",
    "# function to show the plot \n",
    "plt.show()"
   ]
  },
  {
   "cell_type": "code",
   "execution_count": null,
   "id": "f5b6d922-aee4-4756-a671-7e7d10b52836",
   "metadata": {},
   "outputs": [],
   "source": []
  }
 ],
 "metadata": {
  "kernelspec": {
   "display_name": "Python 3 (ipykernel)",
   "language": "python",
   "name": "python3"
  },
  "language_info": {
   "codemirror_mode": {
    "name": "ipython",
    "version": 3
   },
   "file_extension": ".py",
   "mimetype": "text/x-python",
   "name": "python",
   "nbconvert_exporter": "python",
   "pygments_lexer": "ipython3",
   "version": "3.10.12"
  }
 },
 "nbformat": 4,
 "nbformat_minor": 5
}
